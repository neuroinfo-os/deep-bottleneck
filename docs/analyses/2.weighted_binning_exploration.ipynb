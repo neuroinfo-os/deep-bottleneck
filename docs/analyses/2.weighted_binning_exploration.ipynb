{
 "cells": [
  {
   "cell_type": "markdown",
   "metadata": {},
   "source": [
    "# Standard vs. Weighted Binning"
   ]
  },
  {
   "cell_type": "code",
   "execution_count": 1,
   "metadata": {},
   "outputs": [],
   "source": [
    "import numpy as np\n",
    "from scipy.stats import entropy\n",
    "from scipy.stats import ortho_group \n",
    "import matplotlib.pyplot as plt\n",
    "np.random.seed(0)\n",
    "import tensorflow as tf\n",
    "import tensorflow.contrib.eager as tfe\n",
    "tf.enable_eager_execution()"
   ]
  },
  {
   "cell_type": "markdown",
   "metadata": {},
   "source": [
    "## 1. Hypothesis\n",
    "\n",
    "In this notebook we try to show that the normal binning approach is not useful and try to derive a new one. \n",
    "\n",
    "## 2. Experiments\n",
    "As before we simplify the calculation of the mutual information between the input and a representation, by just calculating the entropy of the representation (as the representation is determined by the input).\n",
    "\n",
    "We use a very simplistic neural network model of 3 input, 3 hidden and 3 output neurons. The first weights matrix is an orthogonal matrix, such that the transposed matrix (after scaling) is the inverse matrix. We use linear activation function."
   ]
  },
  {
   "cell_type": "code",
   "execution_count": 62,
   "metadata": {},
   "outputs": [
    {
     "name": "stdout",
     "output_type": "stream",
     "text": [
      "[[ 1.00000000e+00 -2.23155048e-17 -2.80566172e-18]\n",
      " [-1.74057426e-17  1.00000000e+00 -6.79414319e-17]\n",
      " [ 2.19160108e-19 -1.25252028e-16  1.00000000e+00]]\n"
     ]
    }
   ],
   "source": [
    "w1 = (1/3) * ortho_group.rvs(dim=3)\n",
    "w2 = 9 * w1.T\n",
    "print(w1@w2)"
   ]
  },
  {
   "cell_type": "code",
   "execution_count": 174,
   "metadata": {},
   "outputs": [],
   "source": [
    "def act_fn(x):\n",
    "    return x"
   ]
  },
  {
   "cell_type": "markdown",
   "metadata": {},
   "source": [
    "The datapoints are randomly sampled from a normal distribution."
   ]
  },
  {
   "cell_type": "code",
   "execution_count": 189,
   "metadata": {},
   "outputs": [],
   "source": [
    "N = 1000 # number of datapoints\n",
    "data = np.random.randn(3,N)\n",
    "y = np.ones(N)*0.5"
   ]
  },
  {
   "cell_type": "markdown",
   "metadata": {},
   "source": [
    "The bins are created with linspace between the minimum of all datavalues minus 1 and the maximum of all datavalues + 1."
   ]
  },
  {
   "cell_type": "code",
   "execution_count": 190,
   "metadata": {},
   "outputs": [],
   "source": [
    "n = 50 # number of bins\n",
    "a = np.min(data)-1\n",
    "b = np.max(data)+1\n",
    "bins = np.tile(np.linspace(a,b,n),(3,1))"
   ]
  },
  {
   "cell_type": "markdown",
   "metadata": {},
   "source": [
    "Here you can see the data points and the bins."
   ]
  },
  {
   "cell_type": "code",
   "execution_count": 191,
   "metadata": {},
   "outputs": [
    {
     "data": {
      "image/png": "[encoded data removed]",
      "text/plain": [
       "<Figure size 720x72 with 1 Axes>"
      ]
     },
     "metadata": {},
     "output_type": "display_data"
    },
    {
     "data": {
      "image/png": "[encoded data removed]",
      "text/plain": [
       "<Figure size 720x72 with 1 Axes>"
      ]
     },
     "metadata": {},
     "output_type": "display_data"
    },
    {
     "data": {
      "image/png": "[encoded data removed]",
      "text/plain": [
       "<Figure size 720x72 with 1 Axes>"
      ]
     },
     "metadata": {},
     "output_type": "display_data"
    }
   ],
   "source": [
    "for i in range(bins.shape[0]):\n",
    "    fig, ax = plt.subplots(1,1, figsize=(10,1), sharex=True, )\n",
    "    for border in bins[i,:]:\n",
    "        ax.axvline(border)\n",
    "        ax.set_xlim([a,b])\n",
    "        ax.scatter(data[i],y)"
   ]
  },
  {
   "cell_type": "markdown",
   "metadata": {},
   "source": [
    "This function computes the entropy for certain bins. In the case that some data points will land completely outside of the bins I add one bin from the lower border to -infinity and one from the upper border to +infinity."
   ]
  },
  {
   "cell_type": "code",
   "execution_count": 192,
   "metadata": {},
   "outputs": [],
   "source": [
    "def compute_entropy(data, bins):\n",
    "    digitized = []\n",
    "    bins_c = np.sort(bins)\n",
    "    bins_c = np.hstack([np.reshape(np.ones(3)*-np.inf,(3,1)),bins_c])\n",
    "    bins_c = np.hstack([bins_c,np.reshape(np.ones(3)*np.inf,(3,1))])\n",
    "    for i in range(data.shape[0]):\n",
    "        dig = np.digitize(data[i,:],bins_c[i,:])\n",
    "        digitized.append(dig)    \n",
    "    digitized = np.array(digitized)\n",
    "    uniques, unique_counts = np.unique(digitized, return_counts=True, axis=1)\n",
    "    return entropy(unique_counts, base=2)"
   ]
  },
  {
   "cell_type": "code",
   "execution_count": 193,
   "metadata": {},
   "outputs": [
    {
     "name": "stdout",
     "output_type": "stream",
     "text": [
      "The entropy of the dataset is : 9.845254959649102\n"
     ]
    }
   ],
   "source": [
    "print(\"The entropy of the dataset is : {}\".format(compute_entropy(data,bins)))"
   ]
  },
  {
   "cell_type": "code",
   "execution_count": 194,
   "metadata": {},
   "outputs": [
    {
     "name": "stdout",
     "output_type": "stream",
     "text": [
      "Entropy with standard binning of the hidden layer is: 8.03183943622959\n"
     ]
    },
    {
     "data": {
      "image/png": "[encoded data removed]",
      "text/plain": [
       "<Figure size 720x72 with 1 Axes>"
      ]
     },
     "metadata": {},
     "output_type": "display_data"
    },
    {
     "data": {
      "image/png": "[encoded data removed]",
      "text/plain": [
       "<Figure size 720x72 with 1 Axes>"
      ]
     },
     "metadata": {},
     "output_type": "display_data"
    },
    {
     "data": {
      "image/png": "[encoded data removed]",
      "text/plain": [
       "<Figure size 720x72 with 1 Axes>"
      ]
     },
     "metadata": {},
     "output_type": "display_data"
    }
   ],
   "source": [
    "o1 = act_fn(w1 @ data)\n",
    "\n",
    "for i in range(bins_ours_1.shape[0]):\n",
    "    fig, ax = plt.subplots(1,1, figsize=(10,1), sharex=True, )\n",
    "    for border in bins[i,:]:\n",
    "        ax.axvline(border)\n",
    "        ax.scatter(o1[i,:],y)\n",
    "        \n",
    "print(\"Entropy with standard binning of the hidden layer is: {}\".format(compute_entropy(o1, bins)))"
   ]
  },
  {
   "cell_type": "code",
   "execution_count": 195,
   "metadata": {},
   "outputs": [
    {
     "name": "stdout",
     "output_type": "stream",
     "text": [
      "Entropy with standard binning of the output layer is: 9.845254959649102\n"
     ]
    },
    {
     "data": {
      "image/png": "[encoded data removed]",
      "text/plain": [
       "<Figure size 720x72 with 1 Axes>"
      ]
     },
     "metadata": {},
     "output_type": "display_data"
    },
    {
     "data": {
      "image/png": "[encoded data removed]",
      "text/plain": [
       "<Figure size 720x72 with 1 Axes>"
      ]
     },
     "metadata": {},
     "output_type": "display_data"
    },
    {
     "data": {
      "image/png": "[encoded data removed]",
      "text/plain": [
       "<Figure size 720x72 with 1 Axes>"
      ]
     },
     "metadata": {},
     "output_type": "display_data"
    }
   ],
   "source": [
    "o2 = act_fn(w2 @ o1)\n",
    "\n",
    "for i in range(bins_ours_1.shape[0]):\n",
    "    fig, ax = plt.subplots(1,1, figsize=(10,1), sharex=True, )\n",
    "    for border in bins[i,:]:\n",
    "        ax.axvline(border)\n",
    "        ax.scatter(o2[i,:],y)\n",
    "        \n",
    "print(\"Entropy with standard binning of the output layer is: {}\".format(compute_entropy(o2, bins)))"
   ]
  },
  {
   "cell_type": "markdown",
   "metadata": {},
   "source": [
    "We can see that the data processing inequality does not hold with this kind of binning. But what is wrong with it?\n",
    "\n",
    "I the example above we constructed a network that does not lose information (transformation with invertable matrix and back). The normal binning approach cannot capture this though, because it bins always on the same scale. The scale obviously does not matter to the network as it just can rescale the values in the next layer.\n",
    "\n",
    "This shows us that the information that is stored in a representation can not be calculated independently but is heavily dependent on what the layer afterwards can get out of it.\n",
    "\n",
    "So let's think about what a good binning in layer K, with regard to the binning in layer K+1, should look like. First activations that are in the same bin in layer K should not lead to activations which are binned differently in layer K+1. Second activations that are in different bins in layer K should only in few cases lead to the same bins in layer K+1. Meaning this should not happen randomly, but only when the network \"wants it on purpose\". \n",
    "\n",
    "Now assume that we could find a meaningfull binning in the last layer which actually describes the few different representations that the network encodes in this layer. Then we could from there compute a \"fitting\" binning in the layer before and so on. T\n",
    "This meaningful binning cannot be found, so we have to choose one and then propagate this through the network. In this way we make only one \"false\" choice for binning but do it then the same in every layer. \n",
    "To make it even easier we can do the binning on the input already and from there propagate it forward.\n",
    "\n",
    "As this binning is dependent on the weights we will call it \"weighted binning\". So lets see how this works out."
   ]
  },
  {
   "cell_type": "code",
   "execution_count": 196,
   "metadata": {
    "scrolled": false
   },
   "outputs": [
    {
     "name": "stdout",
     "output_type": "stream",
     "text": [
      "Entropy with weighted binning of hidden layer: 9.854274509657758\n"
     ]
    }
   ],
   "source": [
    "# First forwardstep of data.\n",
    "o1 = act_fn(w1 @ data)\n",
    "# First forwardstep of bins. Gotta sort it as the bins might be mirrored.\n",
    "#weighted_bins_1 = np.sort(act_fn( w1 @ bins ))\n",
    "weighted_bins_1 = (act_fn( w1 @ bins ))\n",
    "\n",
    "print(\"Entropy with weighted binning of hidden layer: {}\".format(compute_entropy(o1, weighted_bins_1)))\n"
   ]
  },
  {
   "cell_type": "markdown",
   "metadata": {},
   "source": [
    "In this plot we see the weighted bins (red) in comparison to the original bins (blue)."
   ]
  },
  {
   "cell_type": "code",
   "execution_count": 197,
   "metadata": {
    "scrolled": false
   },
   "outputs": [
    {
     "data": {
      "image/png": "[encoded data removed]",
      "text/plain": [
       "<Figure size 720x216 with 2 Axes>"
      ]
     },
     "metadata": {},
     "output_type": "display_data"
    },
    {
     "data": {
      "image/png": "[encoded data removed]",
      "text/plain": [
       "<Figure size 720x216 with 2 Axes>"
      ]
     },
     "metadata": {},
     "output_type": "display_data"
    },
    {
     "data": {
      "image/png": "[encoded data removed]",
      "text/plain": [
       "<Figure size 720x216 with 2 Axes>"
      ]
     },
     "metadata": {},
     "output_type": "display_data"
    }
   ],
   "source": [
    "for i in range(weighted_bins_1.shape[0]):\n",
    "    fig, ax = plt.subplots(2,1, figsize=(10,3), sharex=True, )\n",
    "    for border in bins[i,:]:\n",
    "        ax[0].axvline(border)\n",
    "        ax[0].set_xlim([-5,5])\n",
    "        ax[0].scatter(o1[i,:],y)\n",
    "    for border in weighted_bins_1[i,:]:\n",
    "        ax[1].axvline(border, color='r')\n",
    "        ax[1].scatter(o1[i,:],y)\n"
   ]
  },
  {
   "cell_type": "code",
   "execution_count": 198,
   "metadata": {
    "scrolled": false
   },
   "outputs": [
    {
     "name": "stdout",
     "output_type": "stream",
     "text": [
      "Entropy with weighted binning of output layer: 9.845254959649102\n"
     ]
    }
   ],
   "source": [
    "# Second forwardstep of data.\n",
    "o2 = act_fn(w2 @ o1)\n",
    "# Second forwardstep of bins.\n",
    "#weighted_bins_2 = np.sort(act_fn( w2 @ weighted_bins_1 ))\n",
    "weighted_bins_2 = (act_fn( w2 @ weighted_bins_1 ))\n",
    "\n",
    "print(\"Entropy with weighted binning of output layer: {}\".format(compute_entropy(o2, weighted_bins_2)))\n"
   ]
  },
  {
   "cell_type": "code",
   "execution_count": 199,
   "metadata": {},
   "outputs": [
    {
     "data": {
      "image/png": "[encoded data removed]",
      "text/plain": [
       "<Figure size 720x216 with 2 Axes>"
      ]
     },
     "metadata": {},
     "output_type": "display_data"
    },
    {
     "data": {
      "image/png": "[encoded data removed]",
      "text/plain": [
       "<Figure size 720x216 with 2 Axes>"
      ]
     },
     "metadata": {},
     "output_type": "display_data"
    },
    {
     "data": {
      "image/png": "[encoded data removed]",
      "text/plain": [
       "<Figure size 720x216 with 2 Axes>"
      ]
     },
     "metadata": {},
     "output_type": "display_data"
    }
   ],
   "source": [
    "for i in range(weighted_bins_2.shape[0]):\n",
    "    fig, ax = plt.subplots(2,1, figsize=(10,3), sharex=True, )\n",
    "    for border in bins[i,:]:\n",
    "        ax[0].axvline(border)\n",
    "        ax[0].set_xlim([-5,5])\n",
    "        ax[0].scatter(o2[i,:],y)\n",
    "    for border in weighted_bins_2[i,:]:\n",
    "        ax[1].axvline(border, color='r')\n",
    "        ax[1].scatter(o2[i,:],y)"
   ]
  },
  {
   "cell_type": "code",
   "execution_count": 200,
   "metadata": {},
   "outputs": [
    {
     "name": "stdout",
     "output_type": "stream",
     "text": [
      "Entropy with standard binning is:\n",
      "9.845254959649102\n",
      "8.03183943622959\n",
      "9.845254959649102\n",
      "Entropy with weighted binning is:\n",
      "9.845254959649102\n",
      "9.854274509657758\n",
      "9.845254959649102\n"
     ]
    }
   ],
   "source": [
    "print(\"Entropy with standard binning is:\")\n",
    "print(compute_entropy(data, bins))\n",
    "print(compute_entropy(o1, bins))\n",
    "print(compute_entropy(o2, bins))\n",
    "\n",
    "\n",
    "print(\"Entropy with weighted binning is:\")\n",
    "print(compute_entropy(data, bins))\n",
    "print(compute_entropy(o1, weighted_bins_1))\n",
    "print(compute_entropy(o2, weighted_bins_2))"
   ]
  },
  {
   "cell_type": "markdown",
   "metadata": {},
   "source": [
    "We see that the data processing inequality also does not hold for weighted binning but the error being made is much smaller.\n",
    "\n",
    "Next it would be interesting to find a way to implement this into the model and see what we find there."
   ]
  }
 ],
 "metadata": {
  "kernelspec": {
   "display_name": "Python 3",
   "language": "python",
   "name": "python3"
  },
  "language_info": {
   "codemirror_mode": {
    "name": "ipython",
    "version": 3
   },
   "file_extension": ".py",
   "mimetype": "text/x-python",
   "name": "python",
   "nbconvert_exporter": "python",
   "pygments_lexer": "ipython3",
   "version": "3.6.5"
  }
 },
 "nbformat": 4,
 "nbformat_minor": 2
}
