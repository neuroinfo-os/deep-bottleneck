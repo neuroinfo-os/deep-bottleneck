{
 "cells": [
  {
   "cell_type": "markdown",
   "metadata": {},
   "source": [
    "## Calculation of mutual information for different parts of the dataset\n",
    "\n",
    "In the this experiment we show the influence of calculating mutual information over different parts of the dataset. Mutual information can be calculated either over the training, the testing or the full dataset. Moreover, we look at the influcence of varying the activation between `tanh` and `ReLU` under these different settings. \n",
    "\n",
    "These experiments belong to cohort 4."
   ]
  },
  {
   "cell_type": "code",
   "execution_count": null,
   "metadata": {},
   "outputs": [],
   "source": [
    "import sys\n",
    "sys.path.append('../..')\n",
    "from iclr_wrap_up.eval_tools.experiment_loader import ExperimentLoader\n",
    "from iclr_wrap_up.eval_tools.utils import format_config, find_differing_config_keys\n",
    "import matplotlib.pyplot as plt\n",
    "from io import BytesIO"
   ]
  },
  {
   "cell_type": "code",
   "execution_count": null,
   "metadata": {},
   "outputs": [],
   "source": [
    "loader = ExperimentLoader()"
   ]
  },
  {
   "cell_type": "markdown",
   "metadata": {},
   "source": [
    "We look at the different infoplane plots."
   ]
  },
  {
   "cell_type": "code",
   "execution_count": null,
   "metadata": {
    "scrolled": false
   },
   "outputs": [],
   "source": [
    "fig, ax = plt.subplots(2,3, figsize=(40, 20))\n",
    "ax = ax.flat\n",
    "\n",
    "experiment_ids = [209, 206, 208, 207, 204, 205]\n",
    "experiments = loader.find_by_ids(experiment_ids)\n",
    "differing_config_keys = find_differing_config_keys(experiments)\n",
    "\n",
    "for i, experiment in enumerate(experiments):\n",
    "    img = plt.imread(BytesIO(experiment.artifacts['infoplane'].content))\n",
    "    ax[i].axis('off')\n",
    "    ax[i].imshow(img)\n",
    "    ax[i].set_title(format_config(experiment.config, *differing_config_keys),\n",
    "                    fontsize=30)\n",
    "    "
   ]
  },
  {
   "cell_type": "markdown",
   "metadata": {},
   "source": [
    "We can see in test data that `tanh` is overfitting at the end. We also see that `ReLU` has lower training than test accuracy as it has less mutual information with the test data than with the train data. These details get lost when estmating mutual information on the full dataset. It is more a smoothed version of both plots, which is less interpretable. Therefore we conclude that it makes most sense to look at the infoplanes for both test and train data. \n",
    "\n",
    "The infoplane for test data should give more insights into the generalization dynamics. The infoplane on the training data should give insights into the training dynamics.\n",
    "\n",
    "The overfitting of the tanh can also be seen in the develepment of training and test accuracy."
   ]
  },
  {
   "cell_type": "code",
   "execution_count": null,
   "metadata": {},
   "outputs": [],
   "source": [
    "import pandas as pd\n",
    "import numpy as np\n",
    "\n",
    "experiment = loader.find_by_id(206)\n",
    "df = pd.DataFrame(data=np.array([experiment.metrics['training.accuracy'].values, experiment.metrics['validation.accuracy'].values]).T,\n",
    "                  index=experiment.metrics['validation.accuracy'].index,\n",
    "                  columns=['train_acc', 'val_acc'])\n",
    "\n",
    "df[::100].plot(linestyle='', marker='.', markersize=3)"
   ]
  },
  {
   "cell_type": "markdown",
   "metadata": {},
   "source": [
    "The general configuration for the experiments."
   ]
  },
  {
   "cell_type": "code",
   "execution_count": 5,
   "metadata": {},
   "outputs": [],
   "source": [
    "variable_config_dict = {k: '<var>' for k in differing_config_keys}\n",
    "config = experiment.config\n",
    "config.update(variable_config_dict)\n",
    "config"
   ]
  },
  {
   "cell_type": "code",
   "execution_count": null,
   "metadata": {},
   "outputs": [],
   "source": []
  }
 ],
 "metadata": {
  "kernelspec": {
   "display_name": "Python 3",
   "language": "python",
   "name": "python3"
  },
  "language_info": {
   "codemirror_mode": {
    "name": "ipython",
    "version": 3
   },
   "file_extension": ".py",
   "mimetype": "text/x-python",
   "name": "python",
   "nbconvert_exporter": "python",
   "pygments_lexer": "ipython3",
   "version": "3.6.3"
  }
 },
 "nbformat": 4,
 "nbformat_minor": 2
}
