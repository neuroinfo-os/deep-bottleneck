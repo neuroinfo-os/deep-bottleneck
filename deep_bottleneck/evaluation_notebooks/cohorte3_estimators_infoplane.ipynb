{
 "cells": [
  {
   "cell_type": "markdown",
   "metadata": {},
   "source": [
    "Import the ArtifactLoader and instantiate it."
   ]
  },
  {
   "cell_type": "code",
   "execution_count": null,
   "metadata": {},
   "outputs": [],
   "source": [
    "from deep_bottleneck.artifact_viewer import ArtifactLoader\n",
    "import matplotlib.pyplot as plt\n",
    "from io import BytesIO"
   ]
  },
  {
   "cell_type": "code",
   "execution_count": null,
   "metadata": {},
   "outputs": [],
   "source": [
    "loader = ArtifactLoader()"
   ]
  },
  {
   "cell_type": "markdown",
   "metadata": {},
   "source": [
    "Look up the experiment id in sacredboard. It is in the first column under `Id`. This way you can retrieve all artifacts related to an experiment. `.load()` returns a dictionary mapping artifact names to `Artifact` objects."
   ]
  },
  {
   "cell_type": "code",
   "execution_count": null,
   "metadata": {
    "scrolled": false
   },
   "outputs": [],
   "source": [
    "# Tanh upper 0.00001 to 1 as noise variance\n",
    "## Tanh lower 0.00001 to 1 as noise variance\n",
    "# Tanh binning 0.00001 to 1 as noise variance\n",
    "# ReLU upper 0.00001 to 1 as noise variance\n",
    "## ReLU lower 0.00001 to 1 as noise variance\n",
    "# ReLU binning 0.00001 to 1 as noise variance\n",
    "fig, ax = plt.subplots(6,6, figsize = (100,100))\n",
    "ax = ax.flat\n",
    "for i,n in enumerate([157,158,160,159,162,163,152,147,150,148,153,156,155,154,146,151,145,149,\n",
    "                     173,176,177,178,179,180, 169,170,171,174,172,175,161,164,165,166,167,168]):\n",
    "    artifacts = loader.load(experiment_id=n)\n",
    "    artifacts['infoplane']._read()\n",
    "    byte = artifacts['infoplane'].content\n",
    "    img = plt.imread(BytesIO(byte))\n",
    "    ax[i].axis('off')\n",
    "    ax[i].imshow(img)  "
   ]
  }
 ],
 "metadata": {
  "kernelspec": {
   "display_name": "Python 3",
   "language": "python",
   "name": "python3"
  },
  "language_info": {
   "codemirror_mode": {
    "name": "ipython",
    "version": 3
   },
   "file_extension": ".py",
   "mimetype": "text/x-python",
   "name": "python",
   "nbconvert_exporter": "python",
   "pygments_lexer": "ipython3",
   "version": "3.6.5"
  }
 },
 "nbformat": 4,
 "nbformat_minor": 2
}
